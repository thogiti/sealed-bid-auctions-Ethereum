{
 "cells": [
  {
   "cell_type": "markdown",
   "metadata": {},
   "source": [
    "### This document is a notebook of experiments and simulations to study the effect of sealed bid auctions in PBS mechanism. We will study specifically the effects of block bidding strategies by the builders and the block payments distributions to the proposer in the context of the in-protocol (ePBS) and out-protocol (MEV-Boost). We also see if the first price sealed bid (FPSB) auction is always the best strategy to maximize the propoer payments or if there are situations where second price sealed bid (SPSB) auctions are better for maximizing the proposer payments.   "
   ]
  },
  {
   "cell_type": "markdown",
   "metadata": {},
   "source": [
    "# First Price Sealed Bid auctions in Ethereum in/out Protocol PBS"
   ]
  },
  {
   "cell_type": "code",
   "execution_count": null,
   "metadata": {},
   "outputs": [],
   "source": [
    "import numpy as np \n",
    "import pandas as pd \n",
    "import plotly.graph_objects as go\n",
    "from plotly.subplots import make_subplots\n",
    "from scipy import stats\n",
    "from scipy import interpolate\n",
    "\n",
    "# ensuring this notebook generates the same answers \n",
    "np.random.seed(1337)"
   ]
  },
  {
   "cell_type": "markdown",
   "metadata": {},
   "source": [
    "## Revenue Equiavalence Theorem\n",
    "\n",
    "From the Revenue Equiavalence Theorem, the expected revenue for the seller (proposer) is the same in either firrst or second-price sealed bid auction. \n",
    "\n",
    "The average payments will be the same in FPSB and SPSB, but we are interested in studying the distribution of payments and the bidding stratgies against the valuations. This can help us show to how to price a bid given a value of the block."
   ]
  },
  {
   "cell_type": "markdown",
   "metadata": {},
   "source": [
    "## Expectation of the 2nd order statistic\n",
    "\n",
    "Our procedure is the following: \n",
    "\n",
    "* Input: $\\bar{v}$: the lower truncation value, $R$: the # of draws. \n",
    "1. Draw $v_{r}$ for draws $r = 1,...,R$. \n",
    "2. Subset, choosing $\\mathcal{R} \\equiv \\{ r \\in \\{1,...,R\\} \\vert v_{r} \\le \\bar{v} \\}$\n",
    "3. Reshape dataset to $v_{i,r}$ for $i = 1,...,N$ and $r = 1,..., \\tilde{R}$. \n",
    "    * *Note:* We will have to throw away some of the very last observations to have a square matrix. Specifically, we throw away the last mod$(\\vert \\mathcal{R} \\vert, N)$ simulated draws. \n",
    "4. For each simulation, $r \\in \\mathcal{R}$, find the 2nd largest value, $v_{(n-1),r}$\n",
    "5. Return $\\hat{\\mathbb{E}}(v_{(n-1)}) = R^{-1} \\sum_{r=1}^R v_{(n-1),r}$. "
   ]
  },
  {
   "cell_type": "code",
   "execution_count": null,
   "metadata": {},
   "outputs": [],
   "source": [
    "def Ev_largest(vi, v_sim_untruncated, N, R_used_min=42): \n",
    "    '''Ev_largest: compute the expected value of maximum drawing from a truncated distribtion \n",
    "                    where v_sim_untruncated are draws from the untruncated and vi is the \n",
    "                    truncation point. \n",
    "        \n",
    "        INPUTS: \n",
    "            vi: (scalar) upper truncation point \n",
    "            v_sim_untruncated: (R-length 1-dim np array) draws of v from the untruncated distribution\n",
    "            N: (int) number of draws per iteration  \n",
    "            R_used_min: (int, optional) assert that we have at least this many samples. (Set =0 to disable.)\n",
    "            \n",
    "        OUTPUTS\n",
    "            Ev: (float) expected value of the largest across simulations\n",
    "            R_used: (int) no. replications used to compute simulated expectation\n",
    "    '''\n",
    "    assert v_sim_untruncated.ndim == 1, f'Expected 1-dimensional array'\n",
    "    \n",
    "    # perform truncation \n",
    "    I = v_sim_untruncated <= vi\n",
    "    v_sim = np.copy(v_sim_untruncated[I])\n",
    "\n",
    "    # drop extra rows\n",
    "    drop_this_many = np.mod(v_sim.size, N)\n",
    "    if drop_this_many>0: \n",
    "        v_sim = v_sim[:-drop_this_many]\n",
    "    \n",
    "    # reshape\n",
    "    R_used = int(v_sim.size / N)\n",
    "    v_sim = np.reshape(v_sim, (N,R_used))\n",
    "    assert R_used > R_used_min, f'Too few replications included: only {R_used}. Try increasing original R.'\n",
    "    \n",
    "    # find largest value \n",
    "    v_sim = np.sort(v_sim, 0) # sorts ascending ... \n",
    "    v_largest = v_sim[-1, :]  # ... so the last *row* is the maximum in columns (samples)\n",
    "    \n",
    "    # evaluate expectation\n",
    "    Ev = np.mean(v_largest)\n",
    "    \n",
    "    return Ev"
   ]
  },
  {
   "cell_type": "code",
   "execution_count": null,
   "metadata": {},
   "outputs": [],
   "source": [
    "N = 10\n",
    "R = 100000"
   ]
  },
  {
   "cell_type": "markdown",
   "metadata": {},
   "source": [
    "## Uniform Distribution Simulations"
   ]
  },
  {
   "cell_type": "code",
   "execution_count": null,
   "metadata": {},
   "outputs": [],
   "source": [
    "np.random.seed(1337)\n",
    "# Generate random valuations for builders\n",
    "v = np.random.uniform(0,1,(N,R))"
   ]
  },
  {
   "cell_type": "code",
   "execution_count": null,
   "metadata": {},
   "outputs": [],
   "source": [
    "# Bayesian Nash Equilibrium (BNE) in first-price sealed bid\n",
    "b_star = lambda vi,N: (N-1)/N * vi\n",
    "b = b_star(v,N)"
   ]
  },
  {
   "cell_type": "markdown",
   "metadata": {},
   "source": [
    "### Get the highest and 2nd highest bid"
   ]
  },
  {
   "cell_type": "code",
   "execution_count": null,
   "metadata": {},
   "outputs": [],
   "source": [
    "# Sorting and indexing\n",
    "idx = np.argsort(v, axis=0)\n",
    "v = np.take_along_axis(v, idx, axis=0)\n",
    "b = np.take_along_axis(b, idx, axis=0)\n",
    "\n",
    "ii = np.repeat(np.arange(1,N+1)[:,None], R, axis=1)\n",
    "ii = np.take_along_axis(ii, idx, axis=0)\n",
    "\n",
    "winning_player = ii[-1,:]\n",
    "\n",
    "winner_pays_fpsb = b[-1, :] # highest bid \n",
    "winner_pays_spsb = v[-2, :] # 2nd-highest valuation"
   ]
  },
  {
   "cell_type": "markdown",
   "metadata": {},
   "source": [
    "### Distribution of payments (Uniform Distribution)\n",
    "\n",
    "We know from the **Revenue Equivalence Theorem** that the *average* payment should be identical. However, the distribution of payments may *look* different. That is, the variance, median, etc. of the winning payments may be different. "
   ]
  },
  {
   "cell_type": "code",
   "execution_count": null,
   "metadata": {
    "scrolled": true
   },
   "outputs": [],
   "source": [
    "# Distribution of payments\n",
    "fig = make_subplots(rows=1, cols=1)\n",
    "for x, lab in zip([winner_pays_fpsb, winner_pays_spsb], ['FPSB', 'SPSB']):\n",
    "    print(f'Avg. payment {lab} (Uniform Distribution): {x.mean(): 8.5f} (std.dev. = {np.sqrt(x.var()): 5.2f})')\n",
    "    fig.add_trace(go.Histogram(x=x, histnorm='probability density', name=lab, nbinsx=100), row=1, col=1)\n",
    "\n",
    "    # Add vertical lines for means\n",
    "fig.add_vline(x=winner_pays_fpsb.mean(), line_width=2, line_dash=\"dash\", line_color=\"blue\")\n",
    "fig.add_vline(x=winner_pays_spsb.mean(), line_width=2, line_dash=\"dash\", line_color=\"red\")\n",
    "\n",
    "fig.update_layout(title_text='Distribution of Payments (Uniform Distribution)', xaxis_title='Bid b_i', yaxis_title='Density', barmode='overlay', title_x=0.5, legend=dict(yanchor=\"top\",y=0,xanchor=\"left\",x=0.9))\n",
    "fig.update_traces(opacity=0.6)\n",
    "fig.show()"
   ]
  },
  {
   "cell_type": "markdown",
   "metadata": {},
   "source": [
    "Let's now plot the *winning bids* $b_{(n)}$ (i.e. the payments) against valuations, $v_{(n)}$ for FPSB and SPSB respectively. Here, we may note that \n",
    "* FPSB: there is a unique bid corresponding to each valuation, \n",
    "* SPSB: What the winner pays varies even holding fixed the winner's valuation (because it is equal to the valuation of the second-highest type). "
   ]
  },
  {
   "cell_type": "code",
   "execution_count": null,
   "metadata": {},
   "outputs": [],
   "source": [
    "# Plotting winning bids against valuations\n",
    "binned = stats.binned_statistic(v[-1, :], v[-2, :], statistic='mean', bins=20)\n",
    "xx = binned.bin_edges\n",
    "xx = [(xx[i]+xx[i+1])/2 for i in range(len(xx)-1)]\n",
    "yy = binned.statistic"
   ]
  },
  {
   "cell_type": "code",
   "execution_count": null,
   "metadata": {},
   "outputs": [],
   "source": [
    "v = v.flatten()\n",
    "vgrid = np.linspace(0, 1, 10, endpoint=False)[1:]\n",
    "Ev = np.empty((vgrid.size,))\n",
    "bds = np.empty((vgrid.size,))\n",
    "t_v = np.empty((vgrid.size,))\n",
    "\n",
    "for i,this_v in enumerate(vgrid): \n",
    "    Ev[i] = Ev_largest(this_v, v, N-1) \n",
    "    bds[i] = Ev[i]/this_v\n",
    "    t_v[i] = this_v\n",
    "v = v.reshape((N,R))"
   ]
  },
  {
   "cell_type": "code",
   "execution_count": null,
   "metadata": {},
   "outputs": [],
   "source": [
    "fig = go.Figure()\n",
    "fig.add_trace(go.Scatter(x=xx, y=yy, mode='lines', name='SPSB avg. payment'))\n",
    "fig.add_trace(go.Scatter(x=v[-1, :], y=b[-1, :], mode='lines', name='FPSB analytic', line=dict(dash='dash')))\n",
    "fig.add_trace(go.Scatter(x=vgrid, y=Ev, mode='lines', name='FPSB Numerical'))\n",
    "fig.add_trace(go.Scatter(x=v[-1, :], y=v[-2, :], mode='markers', name='SPSB: actual bids', opacity=0.3, marker=dict(size=3)))\n",
    "fig.update_layout(title='Winning Bids vs Valuations (Uniform Distribution)', xaxis_title='Valuation, v_i', yaxis_title='Bid, b_i', title_x=0.5, legend=dict(yanchor=\"top\",y=-0.3,xanchor=\"left\",x=0.2,  orientation=\"h\"))\n",
    "fig.show()"
   ]
  },
  {
   "cell_type": "code",
   "execution_count": null,
   "metadata": {},
   "outputs": [],
   "source": [
    "# Plot Bid shading as a % of value\n",
    "fig = go.Figure()\n",
    "fig.add_trace(go.Scatter(x=t_v, y=bds, mode='lines', name='FPSB Bid shading'))\n",
    "fig.update_layout(title='FPSB optimal bid as a % of valuation (Uniform Distribution)', xaxis_title='Valuation, v_i', yaxis_title='Optimal Bid as a % of valudation', title_x=0.5)\n",
    "fig.show()"
   ]
  },
  {
   "cell_type": "markdown",
   "metadata": {},
   "source": [
    "## $\\chi^2$ distribution Simulations\n",
    "\n",
    "Here, it is somewhat harder to solve for the optimal bidding in FPSB because there is no analytical solution. We will approximate it by numerical simulations."
   ]
  },
  {
   "cell_type": "code",
   "execution_count": null,
   "metadata": {},
   "outputs": [],
   "source": [
    "np.random.seed(1337)\n",
    "v = np.random.chisquare(df=2, size=(N*R,))"
   ]
  },
  {
   "cell_type": "code",
   "execution_count": null,
   "metadata": {},
   "outputs": [],
   "source": [
    "fig = go.Figure()\n",
    "fig.add_trace(go.Histogram(x=v, nbinsx=100, name='Values: $v$', opacity=0.6))\n",
    "fig.update_layout(title='Chi-squared Distributed Values', xaxis_title='Values: v_i', yaxis_title='Count')\n",
    "fig.show()"
   ]
  },
  {
   "cell_type": "code",
   "execution_count": null,
   "metadata": {},
   "outputs": [],
   "source": [
    "# Generate the values\n",
    "np.random.seed(1337)\n",
    "v = np.random.chisquare(df=2, size=(N*R,)) \n",
    "\n",
    "# generate a grid\n",
    "ngrid = 100\n",
    "pcts = np.linspace(0, 100, ngrid, endpoint=False)[1:]\n",
    "vgrid = np.percentile(v, q=pcts)"
   ]
  },
  {
   "cell_type": "markdown",
   "metadata": {},
   "source": [
    "This plot shows the grid over which we will evaluate our numerical solution. We will then be interpolating linearly between those dots should we require to when we later *evaluate* our solution"
   ]
  },
  {
   "cell_type": "code",
   "execution_count": null,
   "metadata": {},
   "outputs": [],
   "source": [
    "fig = go.Figure()\n",
    "fig.add_trace(go.Scatter(x=vgrid, y=stats.distributions.chi2.pdf(vgrid + [v.max()], 2), mode='lines', name='True pdf'))\n",
    "fig.add_trace(go.Scatter(x=vgrid, y=stats.distributions.chi2.pdf(vgrid + [v.max()], 2), mode='markers', name='Grid points'))\n",
    "fig.update_layout(title='Block Valuations by the Builders', xaxis_title='Valuation, v_i (Chi-Squared distributed)', title_x=0.5)\n",
    "fig.show()"
   ]
  },
  {
   "cell_type": "code",
   "execution_count": null,
   "metadata": {},
   "outputs": [],
   "source": [
    "# Expected values on the conditional \n",
    "Ev = np.empty(vgrid.shape)\n",
    "for i,this_v in enumerate(vgrid): \n",
    "    Ev[i] = Ev_largest(this_v, v, N-1)\n",
    "    \n",
    "# by construction / assumption, the lowest-valued bidder always pays zero\n",
    "Ev    = np.insert(Ev, 0, 0.0)\n",
    "vgrid = np.insert(vgrid, 0, 0)\n",
    "\n",
    "# set up interpolation function for the solution\n",
    "b_star_num = interpolate.interp1d(vgrid, Ev, fill_value='extrapolate')"
   ]
  },
  {
   "cell_type": "code",
   "execution_count": null,
   "metadata": {},
   "outputs": [],
   "source": [
    "# Create a finer grid for interpolation\n",
    "pcts = np.linspace(0, 100, 1000, endpoint=False)\n",
    "vgrid_fine = np.percentile(v, q=pcts)"
   ]
  },
  {
   "cell_type": "code",
   "execution_count": null,
   "metadata": {},
   "outputs": [],
   "source": [
    "# Plot the optimal bid in FPSB\n",
    "fig = go.Figure()\n",
    "fig.add_trace(go.Scatter(x=vgrid, y=Ev, mode='markers', marker=dict(color='red', symbol='circle'), name='Solution on grid'))\n",
    "fig.add_trace(go.Scatter(x=vgrid_fine, y=b_star_num(vgrid_fine), mode='lines', name='Interpolated solution'))\n",
    "fig.update_layout(title='Optimal Bid in a FPSB - Chi-Squared Distribution', xaxis=dict(title='Valuation: v_i'), yaxis=dict(title='Optimal bid in a FPSB: E(v_{(n-1)} | v{(n)} = v)'),legend=dict(x=0.8, y=0.1),title_x = 0.5)\n",
    "fig.show()"
   ]
  },
  {
   "cell_type": "code",
   "execution_count": null,
   "metadata": {},
   "outputs": [],
   "source": [
    "v = v.reshape((N,R))"
   ]
  },
  {
   "cell_type": "code",
   "execution_count": null,
   "metadata": {},
   "outputs": [],
   "source": [
    "b = b_star_num(v)"
   ]
  },
  {
   "cell_type": "code",
   "execution_count": null,
   "metadata": {},
   "outputs": [],
   "source": [
    "idx = np.argsort(v, axis=0)\n",
    "v = np.take_along_axis(v, idx, axis=0) # same as np.sort(v, axis=0), except now we retian idx \n",
    "b = np.take_along_axis(b, idx, axis=0)\n",
    "\n",
    "ii = np.repeat(np.arange(1,N+1)[:,None], R, axis=1)\n",
    "ii = np.take_along_axis(ii, idx, axis=0)\n",
    "\n",
    "winning_player = ii[-1,:]\n",
    "\n",
    "winner_pays_fpsb = b[-1, :] # highest bid \n",
    "winner_pays_spsb = v[-2, :] # 2nd-highest valuation"
   ]
  },
  {
   "cell_type": "code",
   "execution_count": null,
   "metadata": {
    "scrolled": true
   },
   "outputs": [],
   "source": [
    "fig = make_subplots(rows=1, cols=1)\n",
    "for x, lab in zip([winner_pays_fpsb, winner_pays_spsb], ['FPSB', 'SPSB']):\n",
    "    print(f'Avg. payment {lab} for Chi-Squared distribution: {x.mean(): 8.5f} (std.dev. = {np.sqrt(x.var()): 5.2f})')\n",
    "    fig.add_trace(go.Histogram(x=x, histnorm='probability density', name=f'{lab} (Chi-Squared distribution)', nbinsx=100), row=1, col=1)\n",
    "\n",
    "# Add vertical lines for means\n",
    "fig.add_vline(x=winner_pays_fpsb.mean(), line_width=2, line_dash=\"dash\", line_color=\"blue\", annotation_text=\"FPSB Mean\")\n",
    "fig.add_vline(x=winner_pays_spsb.mean(), line_width=2, line_dash=\"dash\", line_color=\"red\", annotation_text=\"SPSB Mean\")\n",
    "fig.update_layout(title_text=f'Distribution of Payments (Chi-Squared distribution)', xaxis_title='Bid', yaxis_title='Density', barmode='overlay', title_x = 0.5, legend=dict(yanchor=\"top\",y=-0.3,xanchor=\"left\",x=0.2,  orientation=\"h\"))\n",
    "fig.update_traces(opacity=0.6)\n",
    "fig.show()\n"
   ]
  },
  {
   "cell_type": "code",
   "execution_count": null,
   "metadata": {},
   "outputs": [],
   "source": [
    "binned = stats.binned_statistic(v[-1, :], v[-2, :], statistic='mean', bins=20)\n",
    "xx = binned.bin_edges\n",
    "xx = [(xx[i]+xx[i+1])/2 for i in range(len(xx)-1)]\n",
    "yy = binned.statistic"
   ]
  },
  {
   "cell_type": "code",
   "execution_count": null,
   "metadata": {
    "scrolled": true
   },
   "outputs": [],
   "source": [
    "fig = go.Figure()\n",
    "fig.add_trace(go.Scatter(x=xx, y=yy, mode='lines', name=f'SPSB avg. payment'))\n",
    "fig.add_trace(go.Scatter(x=v[-1, :], y=b[-1, :], mode='lines', name=f'FPSB: Bids', line=dict(dash='dash')))\n",
    "fig.add_trace(go.Scatter(x=v[-1, :], y=v[-2, :], mode='markers', name=f'SPSB: actual bids', opacity=0.3, marker=dict(size=2)))\n",
    "fig.update_layout(title=f'Winning Bids vs Valuations (Chi-Squared distribution)', xaxis_title='Valuation, v_i', yaxis_title='Bid, b_i', title_x = 0.5, legend=dict(yanchor=\"top\",y=-0.3,xanchor=\"left\",x=0.2,  orientation=\"h\"))\n",
    "fig.show()"
   ]
  },
  {
   "cell_type": "code",
   "execution_count": null,
   "metadata": {},
   "outputs": [],
   "source": [
    "# Plot Bid shading as a % of value\n",
    "xx = np.linspace(0.1, 10, 10)\n",
    "yy = np.array([b_star_num(v)/v*100.0 for v in vgrid_fine])\n",
    "fig = go.Figure()\n",
    "fig.add_trace(go.Scatter(x=vgrid_fine, y=yy, marker=dict(color='red', symbol='circle'), name='Bid Shading'))\n",
    "fig.update_layout(title='FPSB bid as a % of valuation - Chi-Squared Distribution', xaxis=dict(title='Valuation: v_i'), yaxis=dict(title='Optimal bid as a % of v_i'),legend=dict(x=0.8, y=0.1),title_x = 0.5)\n",
    "fig.show()"
   ]
  },
  {
   "cell_type": "code",
   "execution_count": null,
   "metadata": {},
   "outputs": [],
   "source": []
  }
 ],
 "metadata": {
  "interpreter": {
   "hash": "2f28796849cc7d0dfb7168fb91405d73a8cccecd280e63fee6edce8a728c9dcc"
  },
  "kernelspec": {
   "display_name": "Python 3 (ipykernel)",
   "language": "python",
   "name": "python3"
  },
  "language_info": {
   "codemirror_mode": {
    "name": "ipython",
    "version": 3
   },
   "file_extension": ".py",
   "mimetype": "text/x-python",
   "name": "python",
   "nbconvert_exporter": "python",
   "pygments_lexer": "ipython3",
   "version": "3.11.9"
  }
 },
 "nbformat": 4,
 "nbformat_minor": 4
}
