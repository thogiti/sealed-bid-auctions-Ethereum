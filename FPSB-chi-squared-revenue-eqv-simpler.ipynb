{
 "cells": [
  {
   "cell_type": "markdown",
   "metadata": {},
   "source": [
    "# FPSB under Chi-Squared Distribution with Revenue Equivalence: Simpler Version"
   ]
  },
  {
   "cell_type": "code",
   "execution_count": null,
   "metadata": {},
   "outputs": [],
   "source": [
    "import numpy as np \n",
    "import matplotlib.pyplot as plt \n",
    "import pandas as pd \n",
    "import seaborn as sns \n",
    "from scipy import stats\n",
    "import seaborn as sns\n",
    "from scipy import interpolate \n",
    "import plotly.graph_objects as go\n",
    "from plotly.subplots import make_subplots\n",
    "\n",
    "# for plots \n",
    "# plt.rcParams.update({\"text.usetex\": True, 'font.size':14})\n",
    "colors = plt.rcParams['axes.prop_cycle'].by_key()['color']\n",
    "\n",
    "# ensuring this notebook generates the same answers \n",
    "np.random.seed(1337)"
   ]
  },
  {
   "cell_type": "markdown",
   "metadata": {},
   "source": [
    "# Known distribution "
   ]
  },
  {
   "cell_type": "code",
   "execution_count": null,
   "metadata": {},
   "outputs": [],
   "source": [
    "R = 100000\n",
    "n = 10\n",
    "np.random.seed(1337)\n",
    "F_draw = lambda size : np.random.chisquare(df=2, size=size)\n",
    "F_cdf  = lambda x : stats.chi2.cdf(x, df=2)\n",
    "F_pdf  = lambda x : stats.chi2.pdf(x, df=2)"
   ]
  },
  {
   "cell_type": "code",
   "execution_count": null,
   "metadata": {},
   "outputs": [],
   "source": [
    "xx = np.linspace(0,10,100)\n",
    "yy = F_pdf(xx)\n",
    "vv = F_draw(R)\n",
    "plt.hist(vv, density=True);\n",
    "plt.plot(xx,yy);"
   ]
  },
  {
   "cell_type": "markdown",
   "metadata": {},
   "source": [
    "# Drawing from a truncated distribution"
   ]
  },
  {
   "cell_type": "code",
   "execution_count": null,
   "metadata": {},
   "outputs": [],
   "source": [
    "def draw_from_truncated(F_draw, vbar, n, R): \n",
    "    assert vbar > 0.0, f'Cannot draw from a truncated distribution with vbar={vbar}: no observations'\n",
    "    desired_size = n*R\n",
    "\n",
    "    # how many extra draws are required? \n",
    "    extra_draws = 1.0 / F_cdf(vbar) * 1.1 # 10% more just to be sure \n",
    "    largenum = np.round(desired_size*extra_draws).astype(int)\n",
    "\n",
    "    # draw \n",
    "    v_untrunc = F_draw(size=(largenum,))\n",
    "\n",
    "    # perform truncation\n",
    "    v_trunc = v_untrunc[(v_untrunc <= vbar)].copy()\n",
    "\n",
    "    # drop excess rows so we have a regular array\n",
    "    drop_this_many = np.mod(v_trunc.size, n)\n",
    "    if drop_this_many != 0: \n",
    "        v_trunc = v_trunc[:-drop_this_many]\n",
    "\n",
    "    # regularize array\n",
    "    v_sim = v_trunc.reshape(n, -1)\n",
    "\n",
    "    return v_sim "
   ]
  },
  {
   "cell_type": "code",
   "execution_count": null,
   "metadata": {},
   "outputs": [],
   "source": [
    "v = F_draw(size=(n*R,))\n",
    "# truncated\n",
    "vbar = 3.\n",
    "vsim = draw_from_truncated(F_draw, vbar, n=n, R=R)\n",
    "\n",
    "fig = make_subplots(rows=1, cols=1)\n",
    "fig.add_trace(go.Histogram(x=v.flatten(),nbinsx=1000,name='Raw', histnorm='probability density', opacity=0.6))\n",
    "fig.add_trace(go.Histogram(x=vsim.flatten(), nbinsx=1000, name=f'Truncated at {vbar}', histnorm='probability density', opacity=0.4))\n",
    "fig.update_layout(title='Histogram of Raw and Truncated Chi-Squared Distribution Samples', xaxis=dict(title='Value', range=[0, 10]), yaxis=dict(title='Density'), barmode='overlay', legend=dict(x=0.8, y=-0.1, orientation=\"h\"), title_x=0.5 )\n",
    "fig.show()"
   ]
  },
  {
   "cell_type": "markdown",
   "metadata": {},
   "source": [
    "## Solve for the BNE of the First Price Sealed Bid (FPSB) auction"
   ]
  },
  {
   "cell_type": "code",
   "execution_count": null,
   "metadata": {},
   "outputs": [],
   "source": [
    "def b_star(v): \n",
    "    if v == 0.0: \n",
    "        return 0.0\n",
    "    v_losers = draw_from_truncated(F_draw, vbar=v, n=n-1, R=R)\n",
    "    vmax = v_losers.max(axis=0)\n",
    "    Ev_2nd = np.mean(vmax)\n",
    "    return Ev_2nd"
   ]
  },
  {
   "cell_type": "code",
   "execution_count": null,
   "metadata": {},
   "outputs": [],
   "source": []
  },
  {
   "cell_type": "code",
   "execution_count": null,
   "metadata": {},
   "outputs": [],
   "source": [
    "b_star(1.1)"
   ]
  },
  {
   "cell_type": "code",
   "execution_count": null,
   "metadata": {},
   "outputs": [],
   "source": [
    "v = 5.1\n",
    "bid_shading = b_star(v)/v\n",
    "print(f'Bidders should bid {bid_shading: 5.2%} of their valuation at {v=: 5.2f}')"
   ]
  },
  {
   "cell_type": "code",
   "execution_count": null,
   "metadata": {},
   "outputs": [],
   "source": [
    "xx = np.linspace(0, 10, 10)\n",
    "yy = np.array([b_star(v) for v in xx])\n",
    "plt.plot(xx, yy, '-o', label='$b^*(v)$');\n",
    "plt.legend();"
   ]
  },
  {
   "cell_type": "code",
   "execution_count": null,
   "metadata": {},
   "outputs": [],
   "source": [
    "xx = np.linspace(0.1, 10, 10)\n",
    "yy = np.array([b_star(v)/v*100.0 for v in xx])\n",
    "plt.plot(xx, yy, '-o');\n",
    "plt.ylabel('FPSB bid in % of valuation');"
   ]
  },
  {
   "cell_type": "code",
   "execution_count": null,
   "metadata": {},
   "outputs": [],
   "source": []
  }
 ],
 "metadata": {
  "interpreter": {
   "hash": "2f28796849cc7d0dfb7168fb91405d73a8cccecd280e63fee6edce8a728c9dcc"
  },
  "kernelspec": {
   "display_name": "Python 3 (ipykernel)",
   "language": "python",
   "name": "python3"
  },
  "language_info": {
   "codemirror_mode": {
    "name": "ipython",
    "version": 3
   },
   "file_extension": ".py",
   "mimetype": "text/x-python",
   "name": "python",
   "nbconvert_exporter": "python",
   "pygments_lexer": "ipython3",
   "version": "3.11.9"
  }
 },
 "nbformat": 4,
 "nbformat_minor": 4
}
