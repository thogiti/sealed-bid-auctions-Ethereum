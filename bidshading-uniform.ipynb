{
 "cells": [
  {
   "cell_type": "code",
   "execution_count": null,
   "id": "3d9d108d-4c6c-46a9-a80c-14bbf8c86307",
   "metadata": {},
   "outputs": [],
   "source": [
    "import numpy as np \n",
    "import matplotlib.pyplot as plt \n",
    "import pandas as pd \n",
    "import seaborn as sns \n",
    "from scipy import stats\n",
    "import seaborn as sns\n",
    "from scipy import interpolate \n",
    "import plotly.graph_objects as go\n",
    "from plotly.subplots import make_subplots\n",
    "\n",
    "# for plots \n",
    "# plt.rcParams.update({\"text.usetex\": True, 'font.size':14})\n",
    "colors = plt.rcParams['axes.prop_cycle'].by_key()['color']\n",
    "\n",
    "# ensuring this notebook generates the same answers \n",
    "np.random.seed(1337)"
   ]
  },
  {
   "cell_type": "code",
   "execution_count": null,
   "id": "0acd135b-c3dd-412d-aec6-03f70902d7e1",
   "metadata": {},
   "outputs": [],
   "source": [
    "R = 100000\n",
    "n = 10\n",
    "np.random.seed(1337)\n",
    "F_draw = lambda size: np.random.uniform(0, 1, size)\n",
    "F_cdf = lambda x: stats.uniform.cdf(x, loc=0, scale=1)\n",
    "F_pdf = lambda x: stats.uniform.pdf(x, loc=0, scale=1)"
   ]
  },
  {
   "cell_type": "code",
   "execution_count": null,
   "id": "f2654c65-d8e5-49c0-bb71-d5e7067c1c17",
   "metadata": {},
   "outputs": [],
   "source": [
    "xx = np.linspace(0,1,100)\n",
    "yy = F_pdf(xx)\n",
    "vv = F_draw(10_000)\n",
    "plt.hist(vv, density=True);\n",
    "plt.plot(xx,yy);"
   ]
  },
  {
   "cell_type": "code",
   "execution_count": null,
   "id": "800b8617-ea14-41ad-a5d7-a47769a6e3fd",
   "metadata": {},
   "outputs": [],
   "source": [
    "def draw_from_truncated(F_draw, vbar, n, R): \n",
    "    assert vbar > 0.0, f'Cannot draw from a truncated distribution with vbar={vbar}: no observations'\n",
    "    desired_size = n*R\n",
    "\n",
    "    # how many extra draws are required? \n",
    "    extra_draws = 1.0 / F_cdf(vbar) * 1.1 # 10% more just to be sure \n",
    "    largenum = np.round(desired_size*extra_draws).astype(int)\n",
    "\n",
    "    # draw \n",
    "    v_untrunc = F_draw(size=(largenum,))\n",
    "\n",
    "    # perform truncation\n",
    "    v_trunc = v_untrunc[(v_untrunc <= vbar)].copy()\n",
    "\n",
    "    # drop excess rows so we have a regular array\n",
    "    drop_this_many = np.mod(v_trunc.size, n)\n",
    "    if drop_this_many != 0: \n",
    "        v_trunc = v_trunc[:-drop_this_many]\n",
    "\n",
    "    # regularize array\n",
    "    v_sim = v_trunc.reshape(n, -1)\n",
    "\n",
    "    return v_sim "
   ]
  },
  {
   "cell_type": "code",
   "execution_count": null,
   "id": "e2a4231b-1947-47d3-aea2-3851eeb7f271",
   "metadata": {},
   "outputs": [],
   "source": [
    "# raw \n",
    "v = F_draw(size=(n*R,))\n",
    "plt.hist(v.flatten(), bins=200, density=True, label='Raw');\n",
    "\n",
    "# truncated\n",
    "vbar = 0.8\n",
    "vsim = draw_from_truncated(F_draw, vbar, n=n, R=R)\n",
    "plt.hist(vsim.flatten(), bins=20, density=True, label=f'Truncated at {vbar}', alpha=0.4);\n",
    "\n",
    "plt.xlim(0,1);\n",
    "plt.legend();\n"
   ]
  },
  {
   "cell_type": "code",
   "execution_count": null,
   "id": "9cebe8a1-ee2d-4461-8d05-6462e96f99b6",
   "metadata": {},
   "outputs": [],
   "source": [
    "v = F_draw(size=(n*R,))\n",
    "# truncated\n",
    "vbar = 0.8\n",
    "vsim = draw_from_truncated(F_draw, vbar, n=n, R=R)\n",
    "\n",
    "fig = make_subplots(rows=1, cols=1)\n",
    "fig.add_trace(go.Histogram(x=v.flatten(),nbinsx=200, name='Raw', histnorm='probability density', opacity=0.6))\n",
    "fig.add_trace(go.Histogram(x=vsim.flatten(), nbinsx=200, name=f'Truncated at {vbar}', histnorm='probability density', opacity=0.4))\n",
    "fig.update_layout(title='Histogram of Raw and Truncated Uniform Distribution Samples', xaxis=dict(title='Value', range=[0, 1]), yaxis=dict(title='Density'), barmode='overlay', legend=dict(x=0.8, y=-0.1, orientation=\"h\"), title_x=0.5 )\n",
    "fig.show()\n"
   ]
  },
  {
   "cell_type": "code",
   "execution_count": null,
   "id": "8d36264a-bcbc-4e84-af7e-c02834629f67",
   "metadata": {},
   "outputs": [],
   "source": []
  },
  {
   "cell_type": "code",
   "execution_count": null,
   "id": "bd302d14-c240-4d1a-889d-487e406df12d",
   "metadata": {},
   "outputs": [],
   "source": [
    "def b_star(v): \n",
    "    if v == 0.0: \n",
    "        return 0.0\n",
    "    v_losers = draw_from_truncated(F_draw, vbar=v, n=n-1, R=R)\n",
    "    vmax = v_losers.max(axis=0)\n",
    "    Ev_2nd = np.mean(vmax)\n",
    "    return Ev_2nd"
   ]
  },
  {
   "cell_type": "code",
   "execution_count": null,
   "id": "87dd4d83-cb37-4236-ab23-1ca840ff905e",
   "metadata": {},
   "outputs": [],
   "source": [
    "b_star(1.0)"
   ]
  },
  {
   "cell_type": "code",
   "execution_count": null,
   "id": "a7da3e06-33b7-4b3d-a70d-6a895fee7418",
   "metadata": {},
   "outputs": [],
   "source": [
    "v = 5.1\n",
    "bid_shading = b_star(v)/v\n",
    "print(f'Bidders should bid {bid_shading: 5.2%} of their valuation at {v=: 5.2f}')"
   ]
  },
  {
   "cell_type": "code",
   "execution_count": null,
   "id": "117f8a53-7397-4b00-9206-c31ddef06a2a",
   "metadata": {},
   "outputs": [],
   "source": [
    "xx = np.linspace(0, 1, 100)\n",
    "yy = np.array([b_star(v) for v in xx])\n",
    "plt.plot(xx, yy, '-o', label='$b^*(v)$');\n",
    "plt.legend();"
   ]
  },
  {
   "cell_type": "code",
   "execution_count": null,
   "id": "2b5e0fd3-0093-4c68-aabf-7658d95e93c9",
   "metadata": {},
   "outputs": [],
   "source": [
    "xx = np.linspace(0.05, 1, 100)\n",
    "yy = np.array([b_star(v)/v*100.0 for v in xx])\n",
    "plt.plot(xx, yy, '-o');\n",
    "plt.ylabel('FPSB bid in % of valuation');"
   ]
  },
  {
   "cell_type": "code",
   "execution_count": null,
   "id": "01106a4f-c693-4e96-9340-b624b1473a20",
   "metadata": {},
   "outputs": [],
   "source": []
  }
 ],
 "metadata": {
  "kernelspec": {
   "display_name": "Python 3 (ipykernel)",
   "language": "python",
   "name": "python3"
  },
  "language_info": {
   "codemirror_mode": {
    "name": "ipython",
    "version": 3
   },
   "file_extension": ".py",
   "mimetype": "text/x-python",
   "name": "python",
   "nbconvert_exporter": "python",
   "pygments_lexer": "ipython3",
   "version": "3.11.9"
  }
 },
 "nbformat": 4,
 "nbformat_minor": 5
}
